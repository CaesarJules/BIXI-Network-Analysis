{
 "cells": [
  {
   "cell_type": "code",
   "execution_count": 5,
   "metadata": {},
   "outputs": [],
   "source": [
    "import pandas as pd\n",
    "\n",
    "years = ['2014', '2015', '2016', '2017', '2018']\n",
    "#years = ['2019'] #Year 2019 has data from 04 to 10\n",
    "#years = ['2021'] #Year 2021 has data from 04 to 09\n",
    "months = ['04', '05', '06', '07', '08', '09', '10', '11']\n",
    "\n",
    "for yr in years:\n",
    "    dataframes = {}\n",
    "    df_concat = pd.DataFrame()\n",
    "    for mm in months:\n",
    "        df = \"{}-{}\".format(yr,mm)\n",
    "        dataframes[df] = pd.read_csv(\"../data/BixiMontrealRentals{}/OD_{}.csv\".format(yr, df))\n",
    "        if len(dataframes)==1:\n",
    "            df_concat = dataframes[df]\n",
    "        else:\n",
    "            df_concat = pd.concat([df_concat, dataframes[df]], sort=False)\n",
    "    \n",
    "    if sum([v.shape[0] for k,v in dataframes.items()]) == df_concat.shape[0]:\n",
    "        df_concat.to_csv(\"../data/BixiMontrealRentals{}/OD_{}.csv\".format(yr,yr), index=False)\n",
    "        \n",
    "        \n"
   ]
  },
  {
   "cell_type": "code",
   "execution_count": 39,
   "metadata": {},
   "outputs": [],
   "source": []
  },
  {
   "cell_type": "code",
   "execution_count": 13,
   "metadata": {},
   "outputs": [],
   "source": [
    "#Rename columns to follow a similar format(OD)\n",
    "years = ['2020', '2021']\n",
    "dataframes = {}\n",
    "for yr in years:\n",
    "    dataframes[yr] = pd.read_csv(\"../data/BixiMontrealRentals{}/OD_{}.csv\".format(yr, yr))\n",
    "\n",
    "old_cols = list(dataframes['2021'].columns)\n",
    "new_cols = list(dataframes['2020'].columns)\n",
    "dataframes['2021'].rename({k:v for k,v in list(zip(old_cols, new_cols))}, inplace=True, axis=1)\n",
    "dataframes['2021'].to_csv(\"../data/BixiMontrealRentalsGrouped/OD_{}.csv\".format(2021), index=False)\n",
    "   "
   ]
  },
  {
   "cell_type": "code",
   "execution_count": null,
   "metadata": {},
   "outputs": [],
   "source": [
    "#Rename columns to follow a similar format(Stations)\n",
    "years = ['2019', '2020', '2021']\n",
    "dataframes = {}\n",
    "for yr in years:\n",
    "    dataframes[yr] = pd.read_csv(\"../data/BixiMontrealRentals{}/Stations_{}.csv\".format(yr, yr))\n",
    "\n",
    "old_cols_2019 = list(dataframes['2019'].columns)\n",
    "old_cols_2021 = list(dataframes['2021'].columns)\n",
    "new_cols = list(dataframes['2020'].columns)\n",
    "dataframes['2019'].rename({k:v for k,v in list(zip(old_cols_2019, new_cols))}, inplace=True, axis=1)\n",
    "dataframes['2021'].rename({k:v for k,v in list(zip(old_cols_2021, new_cols))}, inplace=True, axis=1)\n",
    "\n",
    "for yr in years:\n",
    "    dataframes[yr].to_csv(\"../data/BixiMontrealRentals{}/Stations_{}.csv\".format(yr, yr), index=False)\n",
    "        "
   ]
  },
  {
   "cell_type": "code",
   "execution_count": 19,
   "metadata": {},
   "outputs": [],
   "source": []
  },
  {
   "cell_type": "code",
   "execution_count": 20,
   "metadata": {},
   "outputs": [
    {
     "name": "stdout",
     "output_type": "stream",
     "text": [
      "Dataframes Concatenation Successful!\n"
     ]
    }
   ],
   "source": [
    "#Add a year column on Stations to avoid inconsisency in the combined Stations dataframe\n",
    "years = ['2014', '2015', '2016', '2017', '2018', '2019', '2020', '2021']\n",
    "for yr in years:\n",
    "    df = pd.read_csv(\"../data/BixiMontrealRentals{}/Stations_{}.csv\".format(yr, yr))\n",
    "    df['year']=int(yr)\n",
    "    df.to_csv(\"../data/BixiMontrealRentals{}/Stations_{}.csv\".format(yr,yr), index=False)\n",
    "   "
   ]
  },
  {
   "cell_type": "code",
   "execution_count": null,
   "metadata": {},
   "outputs": [],
   "source": []
  },
  {
   "cell_type": "code",
   "execution_count": 37,
   "metadata": {},
   "outputs": [],
   "source": [
    "import pandas as pd\n",
    "\n",
    "OD_2021 = pd.read_csv(\"../data/BixiMontrealRentals2021/OD_2021.csv\")\n",
    "Stations_2021 = pd.read_csv(\"../data/BixiMontrealRentals2021/Stations_2021.csv\")\n",
    "OD_october = pd.read_csv(\"../data/BixiMontrealRentals2021/october/OD_2021_10.csv\")\n",
    "OD_october.rename({k:v for k,v in list(zip(list(OD_october.columns), list(OD_2021.columns)))}, inplace=True, axis=1)\n",
    "Stations_october = pd.read_csv(\"../data/BixiMontrealRentals2021/october/Stations_10.csv\")\n",
    "Stations_october.rename({k:v for k,v in list(zip(list(Stations_october.columns), list(Stations_2021.columns)))}, inplace=True, axis=1)\n",
    "Stations_october['year']=2021"
   ]
  },
  {
   "cell_type": "code",
   "execution_count": 38,
   "metadata": {},
   "outputs": [],
   "source": [
    "stations = pd.concat([Stations_2021, Stations_october], sort=False)\n",
    "stations.drop_duplicates(subset = ['code'], inplace=True)\n",
    "stations.to_csv(\"../data/BixiMontrealRentals2021/Stations_2021.csv\", index=False)\n",
    "OD = pd.concat([OD_2021, OD_october], sort=False)\n",
    "OD.to_csv(\"../data/BixiMontrealRentals2021/OD_2021.csv\", index=False)"
   ]
  },
  {
   "cell_type": "code",
   "execution_count": null,
   "metadata": {},
   "outputs": [],
   "source": []
  },
  {
   "cell_type": "code",
   "execution_count": null,
   "metadata": {},
   "outputs": [],
   "source": []
  },
  {
   "cell_type": "code",
   "execution_count": null,
   "metadata": {},
   "outputs": [],
   "source": []
  },
  {
   "cell_type": "code",
   "execution_count": null,
   "metadata": {},
   "outputs": [],
   "source": []
  },
  {
   "cell_type": "code",
   "execution_count": null,
   "metadata": {},
   "outputs": [],
   "source": []
  },
  {
   "cell_type": "code",
   "execution_count": null,
   "metadata": {},
   "outputs": [],
   "source": []
  },
  {
   "cell_type": "code",
   "execution_count": null,
   "metadata": {},
   "outputs": [],
   "source": []
  }
 ],
 "metadata": {
  "kernelspec": {
   "display_name": "Python 3",
   "language": "python",
   "name": "python3"
  },
  "language_info": {
   "codemirror_mode": {
    "name": "ipython",
    "version": 3
   },
   "file_extension": ".py",
   "mimetype": "text/x-python",
   "name": "python",
   "nbconvert_exporter": "python",
   "pygments_lexer": "ipython3",
   "version": "3.8.3"
  }
 },
 "nbformat": 4,
 "nbformat_minor": 4
}
