{
 "cells": [
  {
   "cell_type": "code",
   "execution_count": 5,
   "metadata": {},
   "outputs": [],
   "source": [
    "import pandas as pd\n",
    "\n",
    "years = ['2014', '2015', '2016', '2017', '2018']\n",
    "#years = ['2019'] #Year 2019 has data from 04 to 10\n",
    "#years = ['2021'] #Year 2021 has data from 04 to 09\n",
    "months = ['04', '05', '06', '07', '08', '09', '10', '11']\n",
    "\n",
    "for yr in years:\n",
    "    dataframes = {}\n",
    "    df_concat = pd.DataFrame()\n",
    "    for mm in months:\n",
    "        df = \"{}-{}\".format(yr,mm)\n",
    "        dataframes[df] = pd.read_csv(\"../data/BixiMontrealRentals{}/OD_{}.csv\".format(yr, df))\n",
    "        if len(dataframes)==1:\n",
    "            df_concat = dataframes[df]\n",
    "        else:\n",
    "            df_concat = pd.concat([df_concat, dataframes[df]], sort=False)\n",
    "    \n",
    "    if sum([v.shape[0] for k,v in dataframes.items()]) == df_concat.shape[0]:\n",
    "        df_concat.to_csv(\"../data/BixiMontrealRentals{}/OD_{}.csv\".format(yr,yr), index=False)\n",
    "        \n",
    "        \n"
   ]
  },
  {
   "cell_type": "code",
   "execution_count": 39,
   "metadata": {},
   "outputs": [],
   "source": []
  },
  {
   "cell_type": "code",
   "execution_count": null,
   "metadata": {},
   "outputs": [],
   "source": [
    "\n",
    "\n",
    "    "
   ]
  },
  {
   "cell_type": "code",
   "execution_count": null,
   "metadata": {},
   "outputs": [],
   "source": []
  },
  {
   "cell_type": "code",
   "execution_count": null,
   "metadata": {},
   "outputs": [],
   "source": []
  }
 ],
 "metadata": {
  "kernelspec": {
   "display_name": "Python 3",
   "language": "python",
   "name": "python3"
  },
  "language_info": {
   "codemirror_mode": {
    "name": "ipython",
    "version": 3
   },
   "file_extension": ".py",
   "mimetype": "text/x-python",
   "name": "python",
   "nbconvert_exporter": "python",
   "pygments_lexer": "ipython3",
   "version": "3.8.3"
  }
 },
 "nbformat": 4,
 "nbformat_minor": 4
}
