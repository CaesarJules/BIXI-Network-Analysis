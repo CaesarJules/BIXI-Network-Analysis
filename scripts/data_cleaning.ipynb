{
  "nbformat": 4,
  "nbformat_minor": 0,
  "metadata": {
    "kernelspec": {
      "display_name": "Python 3",
      "language": "python",
      "name": "python3"
    },
    "language_info": {
      "codemirror_mode": {
        "name": "ipython",
        "version": 3
      },
      "file_extension": ".py",
      "mimetype": "text/x-python",
      "name": "python",
      "nbconvert_exporter": "python",
      "pygments_lexer": "ipython3",
      "version": "3.8.3"
    },
    "colab": {
      "name": "data_cleaning.ipynb",
      "provenance": []
    }
  },
  "cells": [
    {
      "cell_type": "code",
      "metadata": {
        "id": "LCkUC9R8oWlI"
      },
      "source": [
        "import pandas as pd\n"
      ],
      "execution_count": null,
      "outputs": []
    },
    {
      "cell_type": "code",
      "metadata": {
        "colab": {
          "base_uri": "https://localhost:8080/"
        },
        "id": "OM2IfXlQ66ks",
        "outputId": "6a358ec7-cc31-4d3f-9e52-124e96017e00"
      },
      "source": [
        "from google.colab import drive\n",
        "drive.mount('/content/drive/')"
      ],
      "execution_count": null,
      "outputs": [
        {
          "output_type": "stream",
          "name": "stdout",
          "text": [
            "Mounted at /content/drive/\n"
          ]
        }
      ]
    },
    {
      "cell_type": "code",
      "metadata": {
        "id": "pOGFwAZYoWlF"
      },
      "source": [
        "years = ['2014', '2015', '2016', '2017', '2018']\n",
        "#years = ['2019'] #Year 2019 has data from 04 to 10\n",
        "#years = ['2021'] #Year 2021 has data from 04 to 09\n",
        "months = ['04', '05', '06', '07', '08', '09', '10', '11']\n",
        "\n",
        "for yr in years:\n",
        "    dataframes = {}\n",
        "    df_concat = pd.DataFrame()\n",
        "    for mm in months:\n",
        "        df = \"{}-{}\".format(yr,mm)\n",
        "        dataframes[df] = pd.read_csv(\"../data/BixiMontrealRentals{}/OD_{}.csv\".format(yr, df))\n",
        "        if len(dataframes)==1:\n",
        "            df_concat = dataframes[df]\n",
        "        else:\n",
        "            df_concat = pd.concat([df_concat, dataframes[df]], sort=False)\n",
        "    \n",
        "    if sum([v.shape[0] for k,v in dataframes.items()]) == df_concat.shape[0]:\n",
        "        df_concat.to_csv(\"../data/BixiMontrealRentals{}/OD_{}.csv\".format(yr,yr), index=False)\n",
        "        \n",
        "        \n"
      ],
      "execution_count": null,
      "outputs": []
    },
    {
      "cell_type": "code",
      "metadata": {
        "id": "r0MB8MKboWlK"
      },
      "source": [
        "#Rename columns to follow a similar format(OD)\n",
        "years = ['2020', '2021']\n",
        "dataframes = {}\n",
        "for yr in years:\n",
        "    dataframes[yr] = pd.read_csv(\"../data/BixiMontrealRentals{}/OD_{}.csv\".format(yr, yr))\n",
        "\n",
        "old_cols = list(dataframes['2021'].columns)\n",
        "new_cols = list(dataframes['2020'].columns)\n",
        "dataframes['2021'].rename({k:v for k,v in list(zip(old_cols, new_cols))}, inplace=True, axis=1)\n",
        "dataframes['2021'].to_csv(\"../data/BixiMontrealRentalsGrouped/OD_{}.csv\".format(2021), index=False)\n",
        "   "
      ],
      "execution_count": null,
      "outputs": []
    },
    {
      "cell_type": "code",
      "metadata": {
        "id": "32852PLpoWlM"
      },
      "source": [
        "#Rename columns to follow a similar format(Stations)\n",
        "years = ['2019', '2020', '2021']\n",
        "dataframes = {}\n",
        "for yr in years:\n",
        "    dataframes[yr] = pd.read_csv(\"../data/BixiMontrealRentals{}/Stations_{}.csv\".format(yr, yr))\n",
        "\n",
        "old_cols_2019 = list(dataframes['2019'].columns)\n",
        "old_cols_2021 = list(dataframes['2021'].columns)\n",
        "new_cols = list(dataframes['2020'].columns)\n",
        "dataframes['2019'].rename({k:v for k,v in list(zip(old_cols_2019, new_cols))}, inplace=True, axis=1)\n",
        "dataframes['2021'].rename({k:v for k,v in list(zip(old_cols_2021, new_cols))}, inplace=True, axis=1)\n",
        "\n",
        "for yr in years:\n",
        "    dataframes[yr].to_csv(\"../data/BixiMontrealRentals{}/Stations_{}.csv\".format(yr, yr), index=False)\n",
        "        "
      ],
      "execution_count": null,
      "outputs": []
    },
    {
      "cell_type": "code",
      "metadata": {
        "id": "6IDX1j3VoWlN"
      },
      "source": [
        ""
      ],
      "execution_count": null,
      "outputs": []
    },
    {
      "cell_type": "code",
      "metadata": {
        "id": "D9sHbrhzoWlO",
        "outputId": "bc708c5e-0069-4813-b5d5-198cb68e3814"
      },
      "source": [
        "#Add a year column on Stations to avoid inconsisency in the combined Stations dataframe\n",
        "years = ['2014', '2015', '2016', '2017', '2018', '2019', '2020', '2021']\n",
        "for yr in years:\n",
        "    df = pd.read_csv(\"../data/BixiMontrealRentals{}/Stations_{}.csv\".format(yr, yr))\n",
        "    df['year']=int(yr)\n",
        "    df.to_csv(\"../data/BixiMontrealRentals{}/Stations_{}.csv\".format(yr,yr), index=False)\n",
        "   "
      ],
      "execution_count": null,
      "outputs": [
        {
          "name": "stdout",
          "output_type": "stream",
          "text": [
            "Dataframes Concatenation Successful!\n"
          ]
        }
      ]
    },
    {
      "cell_type": "code",
      "metadata": {
        "id": "u2ylfD89oWlf"
      },
      "source": [
        "import pandas as pd\n",
        "\n",
        "def openCsv(filename):\n",
        "    \"\"\"\n",
        "    Opening the CSV files & converting to Pandas DataFrames\n",
        "    \"\"\"\n",
        "    try:\n",
        "        df = pd.read_csv(\"{}\".format(filename), delimiter = \",\", low_memory=False)\n",
        "        print(\" ✔ Dataframe {} loaded successfully.\".format(filename))\n",
        "        return df\n",
        "    except:\n",
        "        print(\" X Loading {} failed.\".format(filename))\n",
        "        \n",
        "        \n",
        "def weatherCleaner(dataframe):\n",
        "    \"\"\"\n",
        "    This function converts raw weather data into the right timezone and timestamp format.\n",
        "    \"\"\"\n",
        "    df = dataframe.copy()\n",
        "    \n",
        "    df[\"Date/Time (LST)\"] = df[\"Date/Time (LST)\"].astype(str) + \":00\"\n",
        "    # Droping extra columns\n",
        "    df.drop(columns = [\"Longitude (x)\", \"Latitude (y)\", \"Station Name\", \"Climate ID\", \"Year\", \"Month\", \"Day\", \"Time (LST)\", \"Temp Flag\", \n",
        "                       \"Dew Point Temp Flag\", \"Rel Hum Flag\", \"Precip. Amount Flag\", \"Dew Point Temp (°C)\", \"Rel Hum (%)\", \"Wind Spd (km/h)\", \"Stn Press (kPa)\", \"Wind Chill\"], inplace = True)\n",
        "    \n",
        "    # Converting to pd.datetime\n",
        "    df[\"Date/Time (LST)\"] = pd.to_datetime(df[\"Date/Time (LST)\"])\n",
        "\n",
        "\n",
        "    # reordering columns\n",
        "    df = df[[\"Date/Time (LST)\", \"Temp (°C)\", \"Precip. Amount (mm)\"]]\n",
        "    \n",
        "    # Fill empty cells with 0\n",
        "    #df.fillna(0, inplace=True)\n",
        "    #replace with mean temperature all cells with nan\n",
        "    df.fillna(df.mean(), inplace=True)\n",
        "    \n",
        "    return df\n",
        "\n",
        "\n",
        "def weatherAdd(dataframe, weather_df):\n",
        "    \"\"\"\n",
        "    This function merges weather data with the main  O-D dataframe.\n",
        "    \"\"\"\n",
        "    df1 = dataframe.copy()\n",
        "    df2 = weather_df.copy()\n",
        "    df1.sort_values(by=[\"start_date\"], inplace = True)\n",
        "    df1['start_date'] = pd.to_datetime(df1['start_date'], errors='coerce')\n",
        "\n",
        "    df2.rename(columns={\"Date/Time (LST)\": \"start_date\"}, inplace = True)\n",
        "    df2['start_date'] = pd.to_datetime(df2['start_date'])\n",
        "    df2.sort_values(by=[\"start_date\"])\n",
        "\n",
        "    new_df = pd.merge_asof(df1, df2, on='start_date')\n",
        "    #new_df = df1.merge(df2, on='start_date')\n",
        "\n",
        "    return new_df\n",
        "\n",
        "\n",
        "\n",
        "def generate_cleaned_weather(filepath):\n",
        "    years = ['2014', '2015', '2016', '2017', '2018', '2019', '2020', '2021']\n",
        "    months = ['04', '05', '06', '07', '08', '09', '10', '11']\n",
        "    \n",
        "    for yr in years:\n",
        "        dataframes = {}\n",
        "        df_concat = pd.DataFrame()\n",
        "        for mm in months:\n",
        "            df = \"{}-{}\".format(yr,mm)\n",
        "            dataframes[df] = openCsv(f\"{filepath}/MontrealRawWeatherData/en_climate_hourly_QC_7024745_{mm}-{yr}_P1H.csv\")\n",
        "            if len(dataframes)==1:\n",
        "                df_concat = dataframes[df]\n",
        "            else:\n",
        "                df_concat = pd.concat([df_concat, dataframes[df]], sort=False)\n",
        "        \n",
        "        if sum([v.shape[0] for k,v in dataframes.items()]) == df_concat.shape[0]:\n",
        "            df_concat = weatherCleaner(df_concat)\n",
        "            df_concat.to_csv(f\"{filepath}/BixiMontrealRentals{yr}/weather_{yr}.csv\", index=False)\n",
        "    \n",
        "\n",
        "filepath = \"/content/drive/My Drive/COMP599/FinalProject/BIXI-Network-Analysis/data\""
      ],
      "execution_count": null,
      "outputs": []
    },
    {
      "cell_type": "code",
      "metadata": {
        "id": "PMzLmh0roWlg",
        "colab": {
          "base_uri": "https://localhost:8080/"
        },
        "outputId": "77831f3e-e03f-4891-e52b-fa378d675de5"
      },
      "source": [
        "generate_cleaned_weather(filepath)"
      ],
      "execution_count": null,
      "outputs": [
        {
          "output_type": "stream",
          "name": "stdout",
          "text": [
            " ✔ Dataframe /content/drive/My Drive/COMP599/FinalProject/BIXI-Network-Analysis/data/MontrealRawWeatherData/en_climate_hourly_QC_7024745_04-2014_P1H.csv loaded successfully.\n",
            " ✔ Dataframe /content/drive/My Drive/COMP599/FinalProject/BIXI-Network-Analysis/data/MontrealRawWeatherData/en_climate_hourly_QC_7024745_05-2014_P1H.csv loaded successfully.\n",
            " ✔ Dataframe /content/drive/My Drive/COMP599/FinalProject/BIXI-Network-Analysis/data/MontrealRawWeatherData/en_climate_hourly_QC_7024745_06-2014_P1H.csv loaded successfully.\n",
            " ✔ Dataframe /content/drive/My Drive/COMP599/FinalProject/BIXI-Network-Analysis/data/MontrealRawWeatherData/en_climate_hourly_QC_7024745_07-2014_P1H.csv loaded successfully.\n",
            " ✔ Dataframe /content/drive/My Drive/COMP599/FinalProject/BIXI-Network-Analysis/data/MontrealRawWeatherData/en_climate_hourly_QC_7024745_08-2014_P1H.csv loaded successfully.\n",
            " ✔ Dataframe /content/drive/My Drive/COMP599/FinalProject/BIXI-Network-Analysis/data/MontrealRawWeatherData/en_climate_hourly_QC_7024745_09-2014_P1H.csv loaded successfully.\n",
            " ✔ Dataframe /content/drive/My Drive/COMP599/FinalProject/BIXI-Network-Analysis/data/MontrealRawWeatherData/en_climate_hourly_QC_7024745_10-2014_P1H.csv loaded successfully.\n",
            " ✔ Dataframe /content/drive/My Drive/COMP599/FinalProject/BIXI-Network-Analysis/data/MontrealRawWeatherData/en_climate_hourly_QC_7024745_11-2014_P1H.csv loaded successfully.\n",
            " ✔ Dataframe /content/drive/My Drive/COMP599/FinalProject/BIXI-Network-Analysis/data/MontrealRawWeatherData/en_climate_hourly_QC_7024745_04-2015_P1H.csv loaded successfully.\n",
            " ✔ Dataframe /content/drive/My Drive/COMP599/FinalProject/BIXI-Network-Analysis/data/MontrealRawWeatherData/en_climate_hourly_QC_7024745_05-2015_P1H.csv loaded successfully.\n",
            " ✔ Dataframe /content/drive/My Drive/COMP599/FinalProject/BIXI-Network-Analysis/data/MontrealRawWeatherData/en_climate_hourly_QC_7024745_06-2015_P1H.csv loaded successfully.\n",
            " ✔ Dataframe /content/drive/My Drive/COMP599/FinalProject/BIXI-Network-Analysis/data/MontrealRawWeatherData/en_climate_hourly_QC_7024745_07-2015_P1H.csv loaded successfully.\n"
          ]
        },
        {
          "output_type": "stream",
          "name": "stderr",
          "text": [
            "/usr/local/lib/python3.7/dist-packages/ipykernel_launcher.py:36: FutureWarning: DataFrame.mean and DataFrame.median with numeric_only=None will include datetime64 and datetime64tz columns in a future version.\n"
          ]
        },
        {
          "output_type": "stream",
          "name": "stdout",
          "text": [
            " ✔ Dataframe /content/drive/My Drive/COMP599/FinalProject/BIXI-Network-Analysis/data/MontrealRawWeatherData/en_climate_hourly_QC_7024745_08-2015_P1H.csv loaded successfully.\n",
            " ✔ Dataframe /content/drive/My Drive/COMP599/FinalProject/BIXI-Network-Analysis/data/MontrealRawWeatherData/en_climate_hourly_QC_7024745_09-2015_P1H.csv loaded successfully.\n",
            " ✔ Dataframe /content/drive/My Drive/COMP599/FinalProject/BIXI-Network-Analysis/data/MontrealRawWeatherData/en_climate_hourly_QC_7024745_10-2015_P1H.csv loaded successfully.\n",
            " ✔ Dataframe /content/drive/My Drive/COMP599/FinalProject/BIXI-Network-Analysis/data/MontrealRawWeatherData/en_climate_hourly_QC_7024745_11-2015_P1H.csv loaded successfully.\n",
            " ✔ Dataframe /content/drive/My Drive/COMP599/FinalProject/BIXI-Network-Analysis/data/MontrealRawWeatherData/en_climate_hourly_QC_7024745_04-2016_P1H.csv loaded successfully.\n",
            " ✔ Dataframe /content/drive/My Drive/COMP599/FinalProject/BIXI-Network-Analysis/data/MontrealRawWeatherData/en_climate_hourly_QC_7024745_05-2016_P1H.csv loaded successfully.\n",
            " ✔ Dataframe /content/drive/My Drive/COMP599/FinalProject/BIXI-Network-Analysis/data/MontrealRawWeatherData/en_climate_hourly_QC_7024745_06-2016_P1H.csv loaded successfully.\n",
            " ✔ Dataframe /content/drive/My Drive/COMP599/FinalProject/BIXI-Network-Analysis/data/MontrealRawWeatherData/en_climate_hourly_QC_7024745_07-2016_P1H.csv loaded successfully.\n",
            " ✔ Dataframe /content/drive/My Drive/COMP599/FinalProject/BIXI-Network-Analysis/data/MontrealRawWeatherData/en_climate_hourly_QC_7024745_08-2016_P1H.csv loaded successfully.\n",
            " ✔ Dataframe /content/drive/My Drive/COMP599/FinalProject/BIXI-Network-Analysis/data/MontrealRawWeatherData/en_climate_hourly_QC_7024745_09-2016_P1H.csv loaded successfully.\n",
            " ✔ Dataframe /content/drive/My Drive/COMP599/FinalProject/BIXI-Network-Analysis/data/MontrealRawWeatherData/en_climate_hourly_QC_7024745_10-2016_P1H.csv loaded successfully.\n",
            " ✔ Dataframe /content/drive/My Drive/COMP599/FinalProject/BIXI-Network-Analysis/data/MontrealRawWeatherData/en_climate_hourly_QC_7024745_11-2016_P1H.csv loaded successfully.\n",
            " ✔ Dataframe /content/drive/My Drive/COMP599/FinalProject/BIXI-Network-Analysis/data/MontrealRawWeatherData/en_climate_hourly_QC_7024745_04-2017_P1H.csv loaded successfully.\n",
            " ✔ Dataframe /content/drive/My Drive/COMP599/FinalProject/BIXI-Network-Analysis/data/MontrealRawWeatherData/en_climate_hourly_QC_7024745_05-2017_P1H.csv loaded successfully.\n",
            " ✔ Dataframe /content/drive/My Drive/COMP599/FinalProject/BIXI-Network-Analysis/data/MontrealRawWeatherData/en_climate_hourly_QC_7024745_06-2017_P1H.csv loaded successfully.\n",
            " ✔ Dataframe /content/drive/My Drive/COMP599/FinalProject/BIXI-Network-Analysis/data/MontrealRawWeatherData/en_climate_hourly_QC_7024745_07-2017_P1H.csv loaded successfully.\n",
            " ✔ Dataframe /content/drive/My Drive/COMP599/FinalProject/BIXI-Network-Analysis/data/MontrealRawWeatherData/en_climate_hourly_QC_7024745_08-2017_P1H.csv loaded successfully.\n",
            " ✔ Dataframe /content/drive/My Drive/COMP599/FinalProject/BIXI-Network-Analysis/data/MontrealRawWeatherData/en_climate_hourly_QC_7024745_09-2017_P1H.csv loaded successfully.\n",
            " ✔ Dataframe /content/drive/My Drive/COMP599/FinalProject/BIXI-Network-Analysis/data/MontrealRawWeatherData/en_climate_hourly_QC_7024745_10-2017_P1H.csv loaded successfully.\n",
            " ✔ Dataframe /content/drive/My Drive/COMP599/FinalProject/BIXI-Network-Analysis/data/MontrealRawWeatherData/en_climate_hourly_QC_7024745_11-2017_P1H.csv loaded successfully.\n",
            " ✔ Dataframe /content/drive/My Drive/COMP599/FinalProject/BIXI-Network-Analysis/data/MontrealRawWeatherData/en_climate_hourly_QC_7024745_04-2018_P1H.csv loaded successfully.\n",
            " ✔ Dataframe /content/drive/My Drive/COMP599/FinalProject/BIXI-Network-Analysis/data/MontrealRawWeatherData/en_climate_hourly_QC_7024745_05-2018_P1H.csv loaded successfully.\n",
            " ✔ Dataframe /content/drive/My Drive/COMP599/FinalProject/BIXI-Network-Analysis/data/MontrealRawWeatherData/en_climate_hourly_QC_7024745_06-2018_P1H.csv loaded successfully.\n",
            " ✔ Dataframe /content/drive/My Drive/COMP599/FinalProject/BIXI-Network-Analysis/data/MontrealRawWeatherData/en_climate_hourly_QC_7024745_07-2018_P1H.csv loaded successfully.\n",
            " ✔ Dataframe /content/drive/My Drive/COMP599/FinalProject/BIXI-Network-Analysis/data/MontrealRawWeatherData/en_climate_hourly_QC_7024745_08-2018_P1H.csv loaded successfully.\n",
            " ✔ Dataframe /content/drive/My Drive/COMP599/FinalProject/BIXI-Network-Analysis/data/MontrealRawWeatherData/en_climate_hourly_QC_7024745_09-2018_P1H.csv loaded successfully.\n",
            " ✔ Dataframe /content/drive/My Drive/COMP599/FinalProject/BIXI-Network-Analysis/data/MontrealRawWeatherData/en_climate_hourly_QC_7024745_10-2018_P1H.csv loaded successfully.\n",
            " ✔ Dataframe /content/drive/My Drive/COMP599/FinalProject/BIXI-Network-Analysis/data/MontrealRawWeatherData/en_climate_hourly_QC_7024745_11-2018_P1H.csv loaded successfully.\n",
            " ✔ Dataframe /content/drive/My Drive/COMP599/FinalProject/BIXI-Network-Analysis/data/MontrealRawWeatherData/en_climate_hourly_QC_7024745_04-2019_P1H.csv loaded successfully.\n",
            " ✔ Dataframe /content/drive/My Drive/COMP599/FinalProject/BIXI-Network-Analysis/data/MontrealRawWeatherData/en_climate_hourly_QC_7024745_05-2019_P1H.csv loaded successfully.\n",
            " ✔ Dataframe /content/drive/My Drive/COMP599/FinalProject/BIXI-Network-Analysis/data/MontrealRawWeatherData/en_climate_hourly_QC_7024745_06-2019_P1H.csv loaded successfully.\n",
            " ✔ Dataframe /content/drive/My Drive/COMP599/FinalProject/BIXI-Network-Analysis/data/MontrealRawWeatherData/en_climate_hourly_QC_7024745_07-2019_P1H.csv loaded successfully.\n",
            " ✔ Dataframe /content/drive/My Drive/COMP599/FinalProject/BIXI-Network-Analysis/data/MontrealRawWeatherData/en_climate_hourly_QC_7024745_08-2019_P1H.csv loaded successfully.\n",
            " ✔ Dataframe /content/drive/My Drive/COMP599/FinalProject/BIXI-Network-Analysis/data/MontrealRawWeatherData/en_climate_hourly_QC_7024745_09-2019_P1H.csv loaded successfully.\n",
            " ✔ Dataframe /content/drive/My Drive/COMP599/FinalProject/BIXI-Network-Analysis/data/MontrealRawWeatherData/en_climate_hourly_QC_7024745_10-2019_P1H.csv loaded successfully.\n",
            " ✔ Dataframe /content/drive/My Drive/COMP599/FinalProject/BIXI-Network-Analysis/data/MontrealRawWeatherData/en_climate_hourly_QC_7024745_11-2019_P1H.csv loaded successfully.\n",
            " ✔ Dataframe /content/drive/My Drive/COMP599/FinalProject/BIXI-Network-Analysis/data/MontrealRawWeatherData/en_climate_hourly_QC_7024745_04-2020_P1H.csv loaded successfully.\n",
            " ✔ Dataframe /content/drive/My Drive/COMP599/FinalProject/BIXI-Network-Analysis/data/MontrealRawWeatherData/en_climate_hourly_QC_7024745_05-2020_P1H.csv loaded successfully.\n",
            " ✔ Dataframe /content/drive/My Drive/COMP599/FinalProject/BIXI-Network-Analysis/data/MontrealRawWeatherData/en_climate_hourly_QC_7024745_06-2020_P1H.csv loaded successfully.\n",
            " ✔ Dataframe /content/drive/My Drive/COMP599/FinalProject/BIXI-Network-Analysis/data/MontrealRawWeatherData/en_climate_hourly_QC_7024745_07-2020_P1H.csv loaded successfully.\n",
            " ✔ Dataframe /content/drive/My Drive/COMP599/FinalProject/BIXI-Network-Analysis/data/MontrealRawWeatherData/en_climate_hourly_QC_7024745_08-2020_P1H.csv loaded successfully.\n",
            " ✔ Dataframe /content/drive/My Drive/COMP599/FinalProject/BIXI-Network-Analysis/data/MontrealRawWeatherData/en_climate_hourly_QC_7024745_09-2020_P1H.csv loaded successfully.\n",
            " ✔ Dataframe /content/drive/My Drive/COMP599/FinalProject/BIXI-Network-Analysis/data/MontrealRawWeatherData/en_climate_hourly_QC_7024745_10-2020_P1H.csv loaded successfully.\n",
            " ✔ Dataframe /content/drive/My Drive/COMP599/FinalProject/BIXI-Network-Analysis/data/MontrealRawWeatherData/en_climate_hourly_QC_7024745_11-2020_P1H.csv loaded successfully.\n",
            " ✔ Dataframe /content/drive/My Drive/COMP599/FinalProject/BIXI-Network-Analysis/data/MontrealRawWeatherData/en_climate_hourly_QC_7024745_04-2021_P1H.csv loaded successfully.\n",
            " ✔ Dataframe /content/drive/My Drive/COMP599/FinalProject/BIXI-Network-Analysis/data/MontrealRawWeatherData/en_climate_hourly_QC_7024745_05-2021_P1H.csv loaded successfully.\n",
            " ✔ Dataframe /content/drive/My Drive/COMP599/FinalProject/BIXI-Network-Analysis/data/MontrealRawWeatherData/en_climate_hourly_QC_7024745_06-2021_P1H.csv loaded successfully.\n",
            " ✔ Dataframe /content/drive/My Drive/COMP599/FinalProject/BIXI-Network-Analysis/data/MontrealRawWeatherData/en_climate_hourly_QC_7024745_07-2021_P1H.csv loaded successfully.\n",
            " ✔ Dataframe /content/drive/My Drive/COMP599/FinalProject/BIXI-Network-Analysis/data/MontrealRawWeatherData/en_climate_hourly_QC_7024745_08-2021_P1H.csv loaded successfully.\n",
            " ✔ Dataframe /content/drive/My Drive/COMP599/FinalProject/BIXI-Network-Analysis/data/MontrealRawWeatherData/en_climate_hourly_QC_7024745_09-2021_P1H.csv loaded successfully.\n",
            " ✔ Dataframe /content/drive/My Drive/COMP599/FinalProject/BIXI-Network-Analysis/data/MontrealRawWeatherData/en_climate_hourly_QC_7024745_10-2021_P1H.csv loaded successfully.\n",
            " ✔ Dataframe /content/drive/My Drive/COMP599/FinalProject/BIXI-Network-Analysis/data/MontrealRawWeatherData/en_climate_hourly_QC_7024745_11-2021_P1H.csv loaded successfully.\n"
          ]
        }
      ]
    },
    {
      "cell_type": "code",
      "metadata": {
        "id": "szkHkKVmoWlg",
        "colab": {
          "base_uri": "https://localhost:8080/"
        },
        "outputId": "9635c3f2-3e22-4de4-ed04-5a6509c3be93"
      },
      "source": [
        "years = ['2014', '2015', '2016', '2017', '2018', '2019', '2020', '2021']\n",
        "\n",
        "#from google.colab import files\n",
        "\n",
        "for year in years:\n",
        "    df = openCsv(f\"{filepath}/BixiMontrealRentals{year}/OD_{year}.csv\")\n",
        "    w_df = openCsv(f\"{filepath}/BixiMontrealRentals{year}/weather_{year}.csv\")\n",
        "    new_df = weatherAdd(df, w_df)\n",
        "    print(new_df.head(10))\n",
        "    #new_df.to_csv(f\"new_OD_{year}.csv\", index=False)\n",
        "    #files.download(\"new_OD_2014.csv\")\n",
        "    new_df.to_csv(f\"drive/MyDrive/COMP599/FinalProject/BIXI-Network-Analysis/data/BixiMontrealRentals{year}/new_OD_{year}.csv\", index=False)\n",
        "    #new_df.head(1000).to_csv(f\"{filepath}/BixiMontrealRentals{year}/new_OD_{year}_first1000.csv\", index=False)"
      ],
      "execution_count": null,
      "outputs": [
        {
          "output_type": "stream",
          "name": "stdout",
          "text": [
            " ✔ Dataframe /content/drive/My Drive/COMP599/FinalProject/BIXI-Network-Analysis/data/BixiMontrealRentals2020/OD_2020.csv loaded successfully.\n",
            " ✔ Dataframe /content/drive/My Drive/COMP599/FinalProject/BIXI-Network-Analysis/data/BixiMontrealRentals2020/weather_2020.csv loaded successfully.\n",
            "           start_date  start_station_code  ... Temp (°C)  Precip. Amount (mm)\n",
            "0 2020-04-15 06:00:04                6212  ...       0.2                  0.0\n",
            "1 2020-04-15 06:05:41                6369  ...       0.2                  0.0\n",
            "2 2020-04-15 06:07:27                6207  ...       0.2                  0.0\n",
            "3 2020-04-15 06:09:16                6202  ...       0.2                  0.0\n",
            "4 2020-04-15 06:09:38                6159  ...       0.2                  0.0\n",
            "5 2020-04-15 06:11:30                7025  ...       0.2                  0.0\n",
            "6 2020-04-15 06:17:08                6929  ...       0.2                  0.0\n",
            "7 2020-04-15 06:17:44                6175  ...       0.2                  0.0\n",
            "8 2020-04-15 06:23:16                6250  ...       0.2                  0.0\n",
            "9 2020-04-15 06:24:16                6916  ...       0.2                  0.0\n",
            "\n",
            "[10 rows x 8 columns]\n"
          ]
        }
      ]
    },
    {
      "cell_type": "code",
      "metadata": {
        "id": "mqHyUDfzJGij",
        "colab": {
          "base_uri": "https://localhost:8080/"
        },
        "outputId": "942e13fa-d0b0-4622-8676-c58f540bba49"
      },
      "source": [
        "transit_stops = openCsv(f\"{filepath}/Transit/stops.csv\")\n",
        "\n",
        "#metro_stations = openCsv(f\"{filepath}/Transit/metro_stations.csv\")\n"
      ],
      "execution_count": null,
      "outputs": [
        {
          "output_type": "stream",
          "name": "stdout",
          "text": [
            " ✔ Dataframe /content/drive/My Drive/COMP599/FinalProject/BIXI-Network-Analysis/data/Transit/stops.csv loaded successfully.\n"
          ]
        }
      ]
    },
    {
      "cell_type": "code",
      "metadata": {
        "id": "zyQt-gBQoWlg",
        "colab": {
          "base_uri": "https://localhost:8080/",
          "height": 292
        },
        "outputId": "11d1a852-161c-4ecd-a25e-d814a9f1d304"
      },
      "source": [
        "print(transit_stops)\n",
        "metro_stations = {}\n",
        "metro_stations['stop_name'] = ['stop_lat', 'stop_lon', 'icon']\n",
        "icons = ['circle', 'pin', 'golf']\n",
        "import csv\n",
        "\n",
        "with open(f\"{filepath}/Transit/metro_stations.csv\", 'w') as csv_file:  \n",
        "    writer = csv.writer(csv_file)\n",
        "    writer.writerow(['stop_name', 'stop_lat', 'stop_lon', 'icon'])\n",
        "    for index, row in transit_stops.iterrows():\n",
        "        writer.writerow([row['stop_name'], row['stop_lat'], row['stop_lon'], icons[row['location_type']]])\n",
        "'''\n",
        "for index, row in transit_stops.iterrows():\n",
        "    if row['location_type'] == 2:\n",
        "        metro_stations[row['stop_name']] = [row['stop_lat'], row['stop_lon'], 'golf']\n",
        "\n",
        "metro_stations.to_csv(f\"{filepath}/Transit/metro_stations.csv\", index=False)\n",
        "'''\n"
      ],
      "execution_count": null,
      "outputs": [
        {
          "output_type": "stream",
          "name": "stdout",
          "text": [
            "           stop_id  stop_code  ... parent_station  wheelchair_boarding\n",
            "0     STATION_M118      10118  ...            NaN                    2\n",
            "1               43      10118  ...   STATION_M118                    2\n",
            "2            43-01      10118  ...   STATION_M118                    2\n",
            "3     STATION_M120      10120  ...            NaN                    2\n",
            "4               42      10120  ...   STATION_M120                    2\n",
            "...            ...        ...  ...            ...                  ...\n",
            "9052         60987      60987  ...            NaN                    2\n",
            "9053         61121      61121  ...            NaN                    2\n",
            "9054         61253      61253  ...            NaN                    1\n",
            "9055         61274      61274  ...            NaN                    2\n",
            "9056         58596      58596  ...            NaN                    2\n",
            "\n",
            "[9057 rows x 9 columns]\n"
          ]
        },
        {
          "output_type": "execute_result",
          "data": {
            "application/vnd.google.colaboratory.intrinsic+json": {
              "type": "string"
            },
            "text/plain": [
              "'\\nfor index, row in transit_stops.iterrows():\\n    if row[\\'location_type\\'] == 2:\\n        metro_stations[row[\\'stop_name\\']] = [row[\\'stop_lat\\'], row[\\'stop_lon\\'], \\'golf\\']\\n\\nmetro_stations.to_csv(f\"{filepath}/Transit/metro_stations.csv\", index=False)\\n'"
            ]
          },
          "metadata": {},
          "execution_count": 25
        }
      ]
    },
    {
      "cell_type": "code",
      "metadata": {
        "id": "s2RxPIQaoWlh",
        "colab": {
          "base_uri": "https://localhost:8080/",
          "height": 232
        },
        "outputId": "aa2830eb-018e-4ea0-df58-48558d4b5851"
      },
      "source": [
        "i=0\n",
        "for row, col in transit_stops:\n",
        "    i+=1\n",
        "    print(row)\n",
        "    print(col)\n",
        "    if i == 10:\n",
        "        exit"
      ],
      "execution_count": null,
      "outputs": [
        {
          "output_type": "error",
          "ename": "ValueError",
          "evalue": "ignored",
          "traceback": [
            "\u001b[0;31m---------------------------------------------------------------------------\u001b[0m",
            "\u001b[0;31mValueError\u001b[0m                                Traceback (most recent call last)",
            "\u001b[0;32m<ipython-input-10-6d342f9162bf>\u001b[0m in \u001b[0;36m<module>\u001b[0;34m()\u001b[0m\n\u001b[1;32m      1\u001b[0m \u001b[0mi\u001b[0m\u001b[0;34m=\u001b[0m\u001b[0;36m0\u001b[0m\u001b[0;34m\u001b[0m\u001b[0;34m\u001b[0m\u001b[0m\n\u001b[0;32m----> 2\u001b[0;31m \u001b[0;32mfor\u001b[0m \u001b[0mrow\u001b[0m\u001b[0;34m,\u001b[0m \u001b[0mcol\u001b[0m \u001b[0;32min\u001b[0m \u001b[0mtransit_stops\u001b[0m\u001b[0;34m:\u001b[0m\u001b[0;34m\u001b[0m\u001b[0;34m\u001b[0m\u001b[0m\n\u001b[0m\u001b[1;32m      3\u001b[0m     \u001b[0mi\u001b[0m\u001b[0;34m+=\u001b[0m\u001b[0;36m1\u001b[0m\u001b[0;34m\u001b[0m\u001b[0;34m\u001b[0m\u001b[0m\n\u001b[1;32m      4\u001b[0m     \u001b[0mprint\u001b[0m\u001b[0;34m(\u001b[0m\u001b[0mrow\u001b[0m\u001b[0;34m)\u001b[0m\u001b[0;34m\u001b[0m\u001b[0;34m\u001b[0m\u001b[0m\n\u001b[1;32m      5\u001b[0m     \u001b[0mprint\u001b[0m\u001b[0;34m(\u001b[0m\u001b[0mcol\u001b[0m\u001b[0;34m)\u001b[0m\u001b[0;34m\u001b[0m\u001b[0;34m\u001b[0m\u001b[0m\n",
            "\u001b[0;31mValueError\u001b[0m: too many values to unpack (expected 2)"
          ]
        }
      ]
    }
  ]
}